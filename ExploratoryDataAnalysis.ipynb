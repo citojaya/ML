{
 "cells": [
  {
   "cell_type": "markdown",
   "metadata": {},
   "source": [
    "### Exploratory data analysis for griding mill wear data"
   ]
  },
  {
   "cell_type": "code",
   "execution_count": 1,
   "metadata": {},
   "outputs": [],
   "source": [
    "import pandas as pd\n",
    "import numpy as np\n",
    "import matplotlib.pyplot as plt\n",
    "import seaborn as sns\n",
    "import os.path\n",
    "\n",
    "%matplotlib inline"
   ]
  },
  {
   "cell_type": "code",
   "execution_count": 2,
   "metadata": {},
   "outputs": [],
   "source": [
    "features = pd.read_excel('../Paper/WearPaper/new_data/time_energy_wear_rate_forK2_new.xlsx')\n",
    "features= features.drop('id', axis = 1)\n",
    "# features= features.drop('k1', axis = 1)\n",
    "features= features.drop('k/H', axis = 1)\n",
    "features= features.drop('wear_rate_percentage', axis = 1)\n",
    "features= features.drop('wear_rate(mm/hr)', axis = 1)\n",
    "features= features.drop('h', axis = 1)\n",
    "# features= features.drop('z', axis = 1)\n",
    "features= features.drop('Hardness', axis = 1)\n",
    "features= features.drop('A', axis = 1)\n",
    "features= features.drop('h/z', axis = 1)\n",
    "features= features.drop('normT', axis = 1)\n",
    "features= features.drop('atan', axis = 1)\n",
    "# features= features.drop('T', axis = 1)\n",
    "features= features.drop('E/A', axis = 1)\n",
    "features= features.drop('averageE', axis = 1)\n",
    "features= features.drop('total', axis = 1)\n",
    "features= features.drop('normE(1e6J/s)', axis = 1)\n",
    "# features= features.drop('normh', axis = 1)\n",
    "# features= features.drop('const', axis = 1)\n",
    "features= features.drop('const2', axis = 1)\n",
    "features= features.drop('ratio', axis = 1)\n",
    "features= features.drop('tangE(1e6J/s)', axis = 1)\n",
    "\n",
    "df = features\n",
    "df1 = df[df['d/mesh'].isin([3])]\n",
    "df = features\n",
    "df2 = df[df['d/mesh'].isin([4.5])]\n",
    "df = features\n",
    "df3 = df[df['d/mesh'].isin([7.2])]\n",
    "\n"
   ]
  },
  {
   "cell_type": "code",
   "execution_count": 3,
   "metadata": {},
   "outputs": [
    {
     "data": {
      "text/plain": [
       "z            0\n",
       "d/mesh       0\n",
       "T            0\n",
       "normz        0\n",
       "normh        0\n",
       "k1           0\n",
       "normTotal    0\n",
       "dtype: int64"
      ]
     },
     "execution_count": 3,
     "metadata": {},
     "output_type": "execute_result"
    }
   ],
   "source": [
    "# Check for missing data\n",
    "df.isnull().sum()"
   ]
  },
  {
   "cell_type": "code",
   "execution_count": 4,
   "metadata": {},
   "outputs": [
    {
     "data": {
      "text/html": [
       "<div>\n",
       "<style scoped>\n",
       "    .dataframe tbody tr th:only-of-type {\n",
       "        vertical-align: middle;\n",
       "    }\n",
       "\n",
       "    .dataframe tbody tr th {\n",
       "        vertical-align: top;\n",
       "    }\n",
       "\n",
       "    .dataframe thead th {\n",
       "        text-align: right;\n",
       "    }\n",
       "</style>\n",
       "<table border=\"1\" class=\"dataframe\">\n",
       "  <thead>\n",
       "    <tr style=\"text-align: right;\">\n",
       "      <th></th>\n",
       "      <th>count</th>\n",
       "      <th>mean</th>\n",
       "      <th>std</th>\n",
       "      <th>min</th>\n",
       "      <th>25%</th>\n",
       "      <th>50%</th>\n",
       "      <th>75%</th>\n",
       "      <th>max</th>\n",
       "    </tr>\n",
       "  </thead>\n",
       "  <tbody>\n",
       "    <tr>\n",
       "      <th>z</th>\n",
       "      <td>360.0</td>\n",
       "      <td>10.935725</td>\n",
       "      <td>8.357754</td>\n",
       "      <td>0.119710</td>\n",
       "      <td>1.801690</td>\n",
       "      <td>11.341830</td>\n",
       "      <td>20.133980</td>\n",
       "      <td>22.000000</td>\n",
       "    </tr>\n",
       "    <tr>\n",
       "      <th>d/mesh</th>\n",
       "      <td>360.0</td>\n",
       "      <td>4.900000</td>\n",
       "      <td>1.740233</td>\n",
       "      <td>3.000000</td>\n",
       "      <td>3.000000</td>\n",
       "      <td>4.500000</td>\n",
       "      <td>7.200000</td>\n",
       "      <td>7.200000</td>\n",
       "    </tr>\n",
       "    <tr>\n",
       "      <th>T</th>\n",
       "      <td>360.0</td>\n",
       "      <td>25.000000</td>\n",
       "      <td>11.195901</td>\n",
       "      <td>10.000000</td>\n",
       "      <td>17.500000</td>\n",
       "      <td>25.000000</td>\n",
       "      <td>32.500000</td>\n",
       "      <td>40.000000</td>\n",
       "    </tr>\n",
       "    <tr>\n",
       "      <th>normz</th>\n",
       "      <td>360.0</td>\n",
       "      <td>0.497078</td>\n",
       "      <td>0.379898</td>\n",
       "      <td>0.005441</td>\n",
       "      <td>0.081895</td>\n",
       "      <td>0.515538</td>\n",
       "      <td>0.915181</td>\n",
       "      <td>1.000000</td>\n",
       "    </tr>\n",
       "    <tr>\n",
       "      <th>normh</th>\n",
       "      <td>360.0</td>\n",
       "      <td>0.593326</td>\n",
       "      <td>0.298906</td>\n",
       "      <td>0.007440</td>\n",
       "      <td>0.344449</td>\n",
       "      <td>0.614138</td>\n",
       "      <td>0.889958</td>\n",
       "      <td>0.981970</td>\n",
       "    </tr>\n",
       "    <tr>\n",
       "      <th>k1</th>\n",
       "      <td>360.0</td>\n",
       "      <td>17.499843</td>\n",
       "      <td>43.558871</td>\n",
       "      <td>0.024146</td>\n",
       "      <td>2.135776</td>\n",
       "      <td>5.814199</td>\n",
       "      <td>13.196345</td>\n",
       "      <td>449.452069</td>\n",
       "    </tr>\n",
       "    <tr>\n",
       "      <th>normTotal</th>\n",
       "      <td>360.0</td>\n",
       "      <td>0.436650</td>\n",
       "      <td>0.316376</td>\n",
       "      <td>0.000589</td>\n",
       "      <td>0.138420</td>\n",
       "      <td>0.376066</td>\n",
       "      <td>0.700730</td>\n",
       "      <td>1.000000</td>\n",
       "    </tr>\n",
       "  </tbody>\n",
       "</table>\n",
       "</div>"
      ],
      "text/plain": [
       "           count       mean        std        min        25%        50%  \\\n",
       "z          360.0  10.935725   8.357754   0.119710   1.801690  11.341830   \n",
       "d/mesh     360.0   4.900000   1.740233   3.000000   3.000000   4.500000   \n",
       "T          360.0  25.000000  11.195901  10.000000  17.500000  25.000000   \n",
       "normz      360.0   0.497078   0.379898   0.005441   0.081895   0.515538   \n",
       "normh      360.0   0.593326   0.298906   0.007440   0.344449   0.614138   \n",
       "k1         360.0  17.499843  43.558871   0.024146   2.135776   5.814199   \n",
       "normTotal  360.0   0.436650   0.316376   0.000589   0.138420   0.376066   \n",
       "\n",
       "                 75%         max  \n",
       "z          20.133980   22.000000  \n",
       "d/mesh      7.200000    7.200000  \n",
       "T          32.500000   40.000000  \n",
       "normz       0.915181    1.000000  \n",
       "normh       0.889958    0.981970  \n",
       "k1         13.196345  449.452069  \n",
       "normTotal   0.700730    1.000000  "
      ]
     },
     "execution_count": 4,
     "metadata": {},
     "output_type": "execute_result"
    }
   ],
   "source": [
    "# Statitstical analysis\n",
    "df.describe().transpose()"
   ]
  },
  {
   "cell_type": "code",
   "execution_count": 5,
   "metadata": {},
   "outputs": [],
   "source": [
    "# plt.figure(figsize=(10,6))\n",
    "# sns.distplot(df, bins=40)\n"
   ]
  },
  {
   "cell_type": "code",
   "execution_count": 6,
   "metadata": {},
   "outputs": [
    {
     "data": {
      "text/plain": [
       "(308, 7)"
      ]
     },
     "execution_count": 6,
     "metadata": {},
     "output_type": "execute_result"
    }
   ],
   "source": [
    "# remove outliers\n",
    "#df1 -> q_hi  = df[\"k1\"].quantile(0.84)\n",
    "#df2 -> q_hi  = df[\"k1\"].quantile(0.86)\n",
    "#df3 -> q_hi  = df[\"k1\"].quantile(0.9)\n",
    "\n",
    "# filter df1 (when d/mesh=3)\n",
    "q_low = df1[\"k1\"].quantile(0.0)\n",
    "q_hi  = df1[\"k1\"].quantile(0.84)\n",
    "df_filtered = df1[(df1[\"k1\"] < q_hi) & (df1[\"k1\"] > q_low)]\n",
    "df1 = df_filtered\n",
    "newdf = df1\n",
    "\n",
    "# write to csv\n",
    "# df1.to_csv('../Paper/WearPaper/new_data/filtered_d_over_mesh_3.csv')\n",
    "\n",
    "# filter df2 (when d/mesh=4.5)\n",
    "q_low = df2[\"k1\"].quantile(0.0)\n",
    "q_hi  = df2[\"k1\"].quantile(0.86)\n",
    "df_filtered = df2[(df2[\"k1\"] < q_hi) & (df2[\"k1\"] > q_low)]\n",
    "df2 = df_filtered\n",
    "# write to csv\n",
    "# df2.to_csv('../Paper/WearPaper/new_data/filtered_d_over_mesh_4.5.csv')\n",
    "\n",
    "# filter df3 (when d/mesh=7.2)\n",
    "q_low = df3[\"k1\"].quantile(0.0)\n",
    "q_hi  = df3[\"k1\"].quantile(0.9)\n",
    "df_filtered = df3[(df3[\"k1\"] < q_hi) & (df3[\"k1\"] > q_low)]\n",
    "df3 = df_filtered\n",
    "# write to csv\n",
    "# df3.to_csv('../Paper/WearPaper/new_data/filtered_d_over_mesh_7.2.csv')\n",
    "\n",
    "\n",
    "newdf = newdf.append(df2)\n",
    "newdf = newdf.append(df3)\n",
    "# df.describe().transpose()\n",
    "\n",
    "\n",
    "newdf.to_csv('../Paper/WearPaper/new_data/filtered_all.csv')\n",
    "newdf.shape"
   ]
  },
  {
   "cell_type": "code",
   "execution_count": 7,
   "metadata": {},
   "outputs": [
    {
     "data": {
      "text/plain": [
       "Text(0.5, 0, 'd/mesh')"
      ]
     },
     "execution_count": 7,
     "metadata": {},
     "output_type": "execute_result"
    },
    {
     "data": {
      "image/png": "[encoded data removed]",
      "text/plain": [
       "<Figure size 576x432 with 1 Axes>"
      ]
     },
     "metadata": {
      "needs_background": "light"
     },
     "output_type": "display_data"
    }
   ],
   "source": [
    "# Box plot\n",
    "\n",
    "plt.rc('axes', labelsize=14) #font size of axes label\n",
    "plt.rc('ytick', labelsize=14) #font size of tick label\n",
    "plt.rc('xtick', labelsize=14) #font size of tick label\n",
    "fig = plt.figure(figsize=[8,6])\n",
    "ax = fig.add_axes([0.2,0.2,0.7,0.7])\n",
    "\n",
    "\n",
    "\n",
    "\n",
    "\n",
    "# plt.xlim(127, 3000)\n",
    "# ax.text(0.1, 0.8, r'Q1', fontsize=18)\n",
    "# ax.text(-0.3, 1.1, r'median', fontsize=18)\n",
    "# ax.text(0.1, 1.3, r'Q3', fontsize=18)\n",
    "# Box plot\n",
    "sns.boxplot(x='d/mesh',y='k1',data=newdf)\n",
    "plt.ylabel(\"k1$_i$ (ms/kg)\")\n",
    "plt.xlabel(\"d/mesh\")\n",
    "\n",
    "# Violin plot\n",
    "# sns.violinplot(x='N',y='newE',data=df, inner='quartiles')\n",
    "# plt.ylabel(\"Predicted E$_i$ (W/kg)\")\n",
    "# plt.xlabel(\"N\")\n",
    "\n",
    "# path = \"../Paper/WearPaper/fig\"\n",
    "# fout = os.path.join(path, \"boxPlot_J.jpg\")\n",
    "# plt.savefig(fout, dpi=300)\n",
    "\n",
    "# selected = df['D'] == 127\n",
    "# df = df[selected]\n",
    "# df['newE'].describe()\n",
    "# fig.savefig(fout, dpi=300)\n"
   ]
  }
 ],
 "metadata": {
  "kernelspec": {
   "display_name": "Python 3",
   "language": "python",
   "name": "python3"
  },
  "language_info": {
   "codemirror_mode": {
    "name": "ipython",
    "version": 3
   },
   "file_extension": ".py",
   "mimetype": "text/x-python",
   "name": "python",
   "nbconvert_exporter": "python",
   "pygments_lexer": "ipython3",
   "version": "3.8.5"
  }
 },
 "nbformat": 4,
 "nbformat_minor": 2
}
