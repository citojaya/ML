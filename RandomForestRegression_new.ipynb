{
 "cells": [
  {
   "cell_type": "markdown",
   "metadata": {},
   "source": [
    "### Random Forest Regression for predicting impact energy\n",
    "#### Ref:  https://towardsdatascience.com/random-forest-in-python-24d0893d51c0"
   ]
  },
  {
   "cell_type": "code",
   "execution_count": 3,
   "metadata": {
    "scrolled": true
   },
   "outputs": [
    {
     "name": "stdout",
     "output_type": "stream",
     "text": [
      "The shape of our features is: (1232, 8)\n",
      "Index(['id', 'z', 'd/mesh', 'normT', 'normz', 'normh', 'k1', 'normTotal'], dtype='object')\n",
      "The shape of our features is: (1232, 8)\n"
     ]
    }
   ],
   "source": [
    "# Pandas is used for data manipulation\n",
    "import pandas as pd\n",
    "import matplotlib.pyplot as plt\n",
    "%matplotlib inline\n",
    "# Read in data and display first 5 rows\n",
    "\n",
    "def linear(m,x):\n",
    "    return m*x\n",
    "\n",
    "\n",
    "# features0 = pd.read_excel('../Paper/WearPaper/time_energy_wear_rate_forK2_test2.xlsx')\n",
    "features0 = pd.read_csv('../Paper/WearPaper/new_data/filtered_all.csv')\n",
    "features0 = features0.append(features0)\n",
    "features0 = features0.append(features0)\n",
    "# features0 = features0.append(features0)\n",
    "\n",
    "features = features0\n",
    "\n",
    "\n",
    "\n",
    "# features0 = pd.read_csv('../Paper/WearPaper/new_data/filtered_all.csv')\n",
    "# features = pd.read_csv('../Paper/WearPaper/new_data/filtered_all.csv')\n",
    "\n",
    "# features.set_index('id')\n",
    "# print(features.head(5))\n",
    "\n",
    "# features = features.iloc[20:-18,:] # remove D=127 and last 18 rows\n",
    "# features = features.iloc[:100,:] # remove last 18 rows\n",
    "# f = features['N'] < 0.65\n",
    "# features = features[f]\n",
    "# features = features[(features[\"N\"] == 0.7)]\n",
    "print('The shape of our features is:', features.shape)\n",
    "\n",
    "\n",
    "# Descriptive statistics for each column\n",
    "#print(features.describe())\n",
    "\n",
    "\n",
    "# One-hot encode the data using pandas get_dummies\n",
    "# features = pd.get_dummies(features)\n",
    "# Display the first 5 rows of the last 12 columns\n",
    "# print(features.iloc[5:8,:].head(5))\n",
    "print(features.columns)\n",
    "\n",
    "# extdata = features['k1'] < 1\n",
    "# features = features[extdata]\n",
    "print('The shape of our features is:', features.shape)\n",
    "# features = features[features['k1'] < 1000]\n"
   ]
  },
  {
   "cell_type": "markdown",
   "metadata": {},
   "source": [
    "### Explore data"
   ]
  },
  {
   "cell_type": "code",
   "execution_count": null,
   "metadata": {},
   "outputs": [],
   "source": [
    "\n",
    "# import seaborn as sns\n",
    "# plt.subplots(figsize=(20,15))\n",
    "# sns.heatmap(features.corr(), annot=True)\n",
    "# features.describe()\n",
    "# sns.pairplot(features)\n",
    "# sns.distplot(features['IE_per_mass'], bins=40)\n",
    "# print(\"columns:\", features.columns)"
   ]
  },
  {
   "cell_type": "code",
   "execution_count": 4,
   "metadata": {
    "scrolled": false
   },
   "outputs": [
    {
     "name": "stdout",
     "output_type": "stream",
     "text": [
      "Index(['d/mesh', 'normT', 'normz', 'normh', 'normTotal'], dtype='object')\n",
      "Training Features Shape: (862, 5)\n",
      "Training Labels Shape: (862,)\n",
      "Testing Features Shape: (370, 5)\n",
      "Testing Labels Shape: (370,)\n"
     ]
    }
   ],
   "source": [
    "# Use numpy to convert to arrays\n",
    "import numpy as np\n",
    "\n",
    "\n",
    "# Labels are the values we want to predict\n",
    "# features = features.iloc[14:,:] # remove top 14 rows\n",
    "\n",
    "# features[features['N'] == 0.7]\n",
    "\n",
    "labels = np.array(features['k1'])\n",
    "\n",
    "features = features.drop('id', axis = 1)\n",
    "features = features.drop('k1', axis = 1)\n",
    "features = features.drop('z', axis = 1)\n",
    "# features = features.drop('normT', axis = 1)\n",
    "\n",
    "print(features.columns)\n",
    "\n",
    "# from sklearn.preprocessing import StandardScaler\n",
    "\n",
    "# Scaling\n",
    "# scaler = StandardScaler()\n",
    "# scaler.fit(features)\n",
    "# scaled_data = scaler.transform(features)\n",
    "# features = scaled_data\n",
    "\n",
    "# Convert to numpy array\n",
    "# features = np.array(features)\n",
    "\n",
    "# Using Skicit-learn to split data into training and testing sets\n",
    "from sklearn.model_selection import train_test_split\n",
    "\n",
    "# Split the data into training and testing sets\n",
    "X_train, X_test, y_train, y_test = train_test_split(features, labels, test_size = 0.3, random_state = 42)\n",
    "\n",
    "\n",
    "\n",
    "\n",
    "print('Training Features Shape:', X_train.shape)\n",
    "print('Training Labels Shape:', y_train.shape)\n",
    "print('Testing Features Shape:', X_test.shape)\n",
    "print('Testing Labels Shape:', y_test.shape)\n",
    "\n",
    "\n",
    "\n",
    "# The baseline predictions are the historical averages\n",
    "# baseline_preds = test_features[:, feature_list.index('average')]\n",
    "# # Baseline errors, and display average baseline error\n",
    "# baseline_errors = abs(baseline_preds - test_labels)\n",
    "# print('Average baseline error: ', round(np.mean(baseline_errors), 2))\n",
    "\n",
    "# Write test data\n",
    "# test_data = X_test\n",
    "# test_data['k1'] = y_test\n",
    "# test_data.to_excel(\"../Paper/WearPaper/new_data/test_data.xlsx\")\n",
    "\n",
    "\n"
   ]
  },
  {
   "cell_type": "code",
   "execution_count": 5,
   "metadata": {},
   "outputs": [],
   "source": [
    "from sklearn.preprocessing import MinMaxScaler\n",
    "scaler = MinMaxScaler()\n",
    "scaler.fit(X_train)\n",
    "X_train = scaler.transform(X_train)\n",
    "X_test = scaler.transform(X_test)"
   ]
  },
  {
   "cell_type": "markdown",
   "metadata": {},
   "source": [
    "### Hyperparameter tuning"
   ]
  },
  {
   "cell_type": "code",
   "execution_count": 6,
   "metadata": {},
   "outputs": [
    {
     "name": "stdout",
     "output_type": "stream",
     "text": [
      "{'n_estimators': [200, 400, 600, 800, 1000, 1200, 1400, 1600, 1800, 2000], 'max_features': ['auto', 'sqrt'], 'max_depth': [10, 20, 30, 40, 50, 60, 70, 80, 90, 100, 110, None], 'min_samples_split': [2, 5, 10], 'min_samples_leaf': [1, 2, 4], 'bootstrap': [True, False]}\n",
      "Fitting 3 folds for each of 100 candidates, totalling 300 fits\n"
     ]
    },
    {
     "name": "stderr",
     "output_type": "stream",
     "text": [
      "[Parallel(n_jobs=-1)]: Using backend LokyBackend with 12 concurrent workers.\n",
      "[Parallel(n_jobs=-1)]: Done  17 tasks      | elapsed:    8.9s\n",
      "[Parallel(n_jobs=-1)]: Done 138 tasks      | elapsed:   40.3s\n",
      "[Parallel(n_jobs=-1)]: Done 300 out of 300 | elapsed:  1.6min finished\n"
     ]
    },
    {
     "data": {
      "text/plain": [
       "{'n_estimators': 400,\n",
       " 'min_samples_split': 2,\n",
       " 'min_samples_leaf': 1,\n",
       " 'max_features': 'sqrt',\n",
       " 'max_depth': None,\n",
       " 'bootstrap': False}"
      ]
     },
     "execution_count": 6,
     "metadata": {},
     "output_type": "execute_result"
    }
   ],
   "source": [
    "from sklearn.ensemble import RandomForestRegressor\n",
    "from sklearn.model_selection import RandomizedSearchCV\n",
    "# Number of trees in random forest\n",
    "n_estimators = [int(x) for x in np.linspace(start = 200, stop = 2000, num = 10)]\n",
    "# Number of features to consider at every split\n",
    "max_features = ['auto', 'sqrt']\n",
    "# Maximum number of levels in tree\n",
    "max_depth = [int(x) for x in np.linspace(10, 110, num = 11)]\n",
    "max_depth.append(None)\n",
    "# Minimum number of samples required to split a node\n",
    "min_samples_split = [2, 5, 10]\n",
    "# Minimum number of samples required at each leaf node\n",
    "min_samples_leaf = [1, 2, 4]\n",
    "# Method of selecting samples for training each tree\n",
    "bootstrap = [True, False]\n",
    "# Create the random grid\n",
    "random_grid = {'n_estimators': n_estimators,\n",
    "               'max_features': max_features,\n",
    "               'max_depth': max_depth,\n",
    "               'min_samples_split': min_samples_split,\n",
    "               'min_samples_leaf': min_samples_leaf,\n",
    "               'bootstrap': bootstrap}\n",
    "print(random_grid)\n",
    "\n",
    "# Use the random grid to search for best hyperparameters\n",
    "# First create the base model to tune\n",
    "rf = RandomForestRegressor()\n",
    "# Random search of parameters, using 3 fold cross validation, \n",
    "# search across 100 different combinations, and use all available cores\n",
    "rf_random = RandomizedSearchCV(estimator = rf, param_distributions = random_grid, n_iter = 100, cv = 3, verbose=2, random_state=42, n_jobs = -1)\n",
    "# Fit the random search model\n",
    "rf_random.fit(X_train, y_train)\n",
    "\n",
    "rf_random.best_params_\n",
    "\n"
   ]
  },
  {
   "cell_type": "markdown",
   "metadata": {},
   "source": [
    "### Train the model"
   ]
  },
  {
   "cell_type": "code",
   "execution_count": 7,
   "metadata": {},
   "outputs": [
    {
     "name": "stdout",
     "output_type": "stream",
     "text": [
      "Mean Absolute Error: 0.03220492987522057\n",
      "Accuracy: 98.77 %.\n",
      "R2 : 0.9992989996908278\n",
      "DONE\n"
     ]
    }
   ],
   "source": [
    "# Import the model we are using\n",
    "from sklearn.ensemble import RandomForestRegressor\n",
    "\n",
    "\n",
    "rf = RandomForestRegressor(n_estimators = 400, min_samples_split = 2,\n",
    "                           min_samples_leaf = 1,max_features='sqrt',max_depth=None,bootstrap=False,\n",
    "                            random_state = 42)\n",
    "\n",
    "# Train the model on training data\n",
    "rf.fit(X_train, y_train)\n",
    "\n",
    "# Use the forest's predict method on the test data\n",
    "predictions = rf.predict(X_test)\n",
    "\n",
    "# Calculate the absolute errors\n",
    "errors = abs(predictions - y_test)\n",
    "\n",
    "# Print out the mean absolute error (mae)\n",
    "print('Mean Absolute Error:', np.mean(errors))\n",
    "\n",
    "# Calculate mean absolute percentage error (MAPE)\n",
    "mape = 100 * (errors / y_test)\n",
    "\n",
    "# Calculate and display accuracy\n",
    "accuracy = 100 - np.mean(mape)\n",
    "print('Accuracy:', round(accuracy, 2), '%.')\n",
    "\n",
    "from sklearn.metrics import mean_absolute_error,mean_squared_error,r2_score\n",
    "# RMS\n",
    "mean_squared_error(y_test,predictions)**0.5\n",
    "print(\"R2 :\",r2_score(y_test,predictions,multioutput='variance_weighted'))\n",
    "\n",
    "print(\"DONE\")"
   ]
  },
  {
   "cell_type": "markdown",
   "metadata": {},
   "source": [
    "### Prediction"
   ]
  },
  {
   "cell_type": "code",
   "execution_count": null,
   "metadata": {},
   "outputs": [],
   "source": [
    "\n",
    "# valid = errors < 5\n",
    "# invalid = errors > 5\n",
    "# count = 0\n",
    "# for i in range(len(valid)):\n",
    "#     if(valid[i]):\n",
    "# #         print(errors[i])\n",
    "#         count += 1\n",
    "    \n",
    "        \n",
    "# print(count/len(X_test))\n",
    "# print(type(X_test))\n",
    "# print(X_test[invalid])\n",
    "\n",
    "# newf = features0.drop(features0.index[[30, 79, 190, 137, 202, 173, 267, 220, 82, 265, 104, 60, 42, 22, 193, 109, 24, 143, 217, 6, 118, 165, 19, 90, 170, 15, 242, 33, 141, 250, 16, 228, 152]])\n",
    "# newf.to_excel('../Paper/WearPaper/time_energy_wear_rate_forK2_test2_refined22.xlsx')\n",
    "\n",
    "\n",
    "\n",
    "# print(X_test)"
   ]
  },
  {
   "cell_type": "markdown",
   "metadata": {},
   "source": [
    "### Determine Performance Metrics"
   ]
  },
  {
   "cell_type": "markdown",
   "metadata": {},
   "source": [
    "### Variable Importances\n",
    "#### In order to quantify the usefulness of all the variables in the entire random forest, we can look at the relative importances of the variables. "
   ]
  },
  {
   "cell_type": "code",
   "execution_count": null,
   "metadata": {},
   "outputs": [],
   "source": [
    "# Get numerical feature importances\n",
    "# importances = list(rf.feature_importances_)\n",
    "# # List of tuples with variable and importance\n",
    "# feature_importances = [(feature, round(importance, 2)) for feature, importance in zip(feature_list, importances)]\n",
    "# # Sort the feature importances by most important first\n",
    "# feature_importances = sorted(feature_importances, key = lambda x: x[1], reverse = True)\n",
    "# # Print out the feature and importances \n",
    "# [print('Variable: {:20} Importance: {}'.format(*pair)) for pair in feature_importances];"
   ]
  },
  {
   "cell_type": "markdown",
   "metadata": {},
   "source": [
    "### Visualization\n"
   ]
  },
  {
   "cell_type": "code",
   "execution_count": null,
   "metadata": {
    "scrolled": true
   },
   "outputs": [],
   "source": [
    "# Import matplotlib for plotting and use magic command for Jupyter Notebooks\n",
    "# import matplotlib.pyplot as plt\n",
    "# %matplotlib inline\n",
    "# # Set the style\n",
    "# plt.style.use('fivethirtyeight')\n",
    "# # list of x locations for plotting\n",
    "# x_values = list(range(len(importances)))\n",
    "# # Make a bar chart\n",
    "# plt.bar(x_values, importances, orientation = 'vertical')\n",
    "# # Tick labels for x axis\n",
    "# plt.xticks(x_values, feature_list, rotation='vertical')\n",
    "# # Axis labels and title\n",
    "# plt.ylabel('Importance'); plt.xlabel('Variable'); plt.title('Variable Importances');"
   ]
  },
  {
   "cell_type": "markdown",
   "metadata": {},
   "source": [
    "### Prediciton for HICOM mill"
   ]
  },
  {
   "cell_type": "code",
   "execution_count": null,
   "metadata": {
    "scrolled": true
   },
   "outputs": [],
   "source": [
    "# df0 = pd.read_excel('../test_code_new/4267mm/36mm/prediction_1-2.xlsx', sheet_name='1-2')\n",
    "# features= df0.drop('z', axis = 1)\n",
    "# features= features.drop('z_raw', axis = 1)\n",
    "# features= features.drop('h', axis = 1)\n",
    "# features= features.drop('finnei', axis = 1)\n",
    "# features= features.drop('d', axis = 1)\n",
    "# features= features.drop('E/A', axis = 1)\n",
    "# features= features.drop('shear', axis = 1)\n",
    "# features= features.drop('h/z', axis = 1)\n",
    "# # features= features.drop('normh', axis = 1)\n",
    "# features= features.drop('normE', axis = 1)\n",
    "# features= features.drop('newh', axis = 1)\n",
    "# features= features.drop('k1', axis = 1)\n",
    "# features= features.drop('modnewh', axis = 1)\n",
    "\n",
    "# features= features.drop('atan', axis = 1)\n",
    "\n",
    "# print(features.columns)\n",
    "\n",
    "# scaler = MinMaxScaler()\n",
    "# scaler.fit(features)\n",
    "# scaled_features = scaler.transform(features)\n",
    "\n",
    "\n",
    "# predictions = rf.predict(scaled_features)\n",
    "# df = pd.DataFrame(predictions, columns=['k1'])\n",
    "\n",
    "# dt = 1924\n",
    "# df0['k1'] = predictions\n",
    "# # df0['newh'] = np.array(df0['h']) - dt*(0.001*np.array(df0['k1'])*1e-6*np.array(df0['shear']))/(2000*64*1e-6) # with k \n",
    "# # df0['newh'] = np.array(df0['h']) - dt*df0['k1']*(50.0/100.0)/50000.0 # with worn percentage\n",
    "# df0['newh'] = np.array(df0['h']) - 41*dt*np.array(df0['k1'])*1e-6*np.array(df0['shear'])*(50.0/100.0)/700 # with worn percentage\n",
    "\n",
    "# print(df0.tail())\n",
    "\n",
    "# df0.to_excel('../test_code_new/4267mm/36mm/k_1_2.xlsx')\n"
   ]
  },
  {
   "cell_type": "markdown",
   "metadata": {},
   "source": [
    "### Test for large scale"
   ]
  },
  {
   "cell_type": "code",
   "execution_count": 8,
   "metadata": {
    "scrolled": false
   },
   "outputs": [
    {
     "name": "stdout",
     "output_type": "stream",
     "text": [
      "NO OF PREDICTIONS 370\n"
     ]
    }
   ],
   "source": [
    "# features = pd.read_excel('../Paper/WearPaper/test_time_energy_wear.xlsx')\n",
    "features0 = pd.read_excel('../Paper/WearPaper/new_data/test_data.xlsx')\n",
    "features = pd.read_excel('../Paper/WearPaper/new_data/test_data.xlsx')\n",
    "\n",
    "# features = features[(features[\"N\"] == 0.7)]\n",
    "# features = pd.read_excel('../test_code_new/test_data.xlsx')\n",
    "\n",
    "# features = features.iloc[:-3,:] # \n",
    "# print(features.tail())\n",
    "# print(\"NO OF FEATURES\",len(features0))\n",
    "\n",
    "actual = np.array(features['k1'])\n",
    "\n",
    "\n",
    "\n",
    "# Remove the labels from the features\n",
    "# axis 1 refers to the columns\n",
    "\n",
    "features= features.drop('k1', axis = 1)\n",
    "features= features.drop('id', axis = 1)\n",
    "# features= features.drop('IESM', axis = 1)\n",
    "# features= features.drop('F_plus_IESM', axis = 1)\n",
    "# features= features.drop('shear', axis = 1)\n",
    "\n",
    "\n",
    "# Scaling\n",
    "from sklearn.preprocessing import MinMaxScaler\n",
    "scaler = MinMaxScaler()\n",
    "scaler.fit(features)\n",
    "scaled_data = scaler.transform(features)\n",
    "# print(np.shape(scaled_data))\n",
    "# scaled_data = pd.DataFrame(scaled_data, columns=features.columns)\n",
    "\n",
    "predictions = rf.predict(scaled_data)\n",
    "print(\"NO OF PREDICTIONS\", len(predictions))\n",
    "# print(actual)\n",
    "# print(predictions)\n"
   ]
  },
  {
   "cell_type": "markdown",
   "metadata": {},
   "source": [
    "### Compare actual vs prediction"
   ]
  },
  {
   "cell_type": "code",
   "execution_count": 9,
   "metadata": {},
   "outputs": [
    {
     "name": "stdout",
     "output_type": "stream",
     "text": [
      "Mean Absolute Error: 0.24875 IE_per_mass.\n",
      "Accuracy: 91.87 %.\n",
      "Mean Sq Error : 1.122584221842792\n",
      "r2 score : 0.9793131236558983\n",
      "0.499193834\n"
     ]
    }
   ],
   "source": [
    "# Calculate the absolute errors\n",
    "errors = abs(predictions - actual)\n",
    "# Print out the mean absolute error (mae)\n",
    "print('Mean Absolute Error:', round(np.mean(errors), 5), 'IE_per_mass.')\n",
    "\n",
    "maxlim = 0\n",
    "# Calculate mean absolute percentage error (MAPE)\n",
    "mape = 100 * (errors[maxlim:] / actual[maxlim:])\n",
    "# Calculate and display accuracy\n",
    "accuracy = 100 - np.mean(mape)\n",
    "print('Accuracy:', round(accuracy, 2), '%.')\n",
    "\n",
    "from sklearn.metrics import mean_absolute_error,mean_squared_error,r2_score\n",
    "# RMS\n",
    "print(\"Mean Sq Error :\",mean_squared_error(actual,predictions)**0.5)\n",
    "print(\"r2 score :\",r2_score(actual,predictions))\n",
    "print(actual[maxlim])"
   ]
  },
  {
   "cell_type": "code",
   "execution_count": 11,
   "metadata": {
    "scrolled": true
   },
   "outputs": [
    {
     "name": "stdout",
     "output_type": "stream",
     "text": [
      "[218, 284, 76, 170, 218, 275, 275, 277, 247, 172, 282, 218, 170, 278, 282, 252, 218, 146, 223, 284, 76, 252]\n",
      "Total 370\n",
      "Valied 348\n",
      "Valid percentage 94.05405405405405\n",
      "Mean Absolute Error: 0.12199 IE_per_mass.\n",
      "Accuracy: 98.34 %.\n",
      "Mean Sq Error : 0.32260481054588896\n",
      "r2 score : 0.998336126042717\n"
     ]
    },
    {
     "data": {
      "image/png": "[encoded data removed]",
      "text/plain": [
       "<Figure size 432x288 with 1 Axes>"
      ]
     },
     "metadata": {
      "needs_background": "light"
     },
     "output_type": "display_data"
    }
   ],
   "source": [
    "import matplotlib.pyplot as plt\n",
    "# Plot actual and prediction\n",
    "\n",
    "plt.rc('axes', labelsize=14) #font size of axes label\n",
    "plt.rc('xtick', labelsize=14) #font size of tick label\n",
    "plt.rc('ytick', labelsize=14) #font size of tick label\n",
    "\n",
    "fig = plt.figure()\n",
    "ax = fig.add_axes([0.2,0.2,0.7,0.7])\n",
    "\n",
    "ax.set_xlim(0,30)\n",
    "ax.set_ylim(0,30)\n",
    "\n",
    "x = np.arange(0,30,1)\n",
    "m = 1\n",
    "y = linear(m, x)\n",
    "\n",
    "\n",
    "maxlim = len(actual)\n",
    "valid = []\n",
    "invalid = []\n",
    "newAct = []\n",
    "newPred = []\n",
    "\n",
    "for i in range(len(actual)):\n",
    "    if (actual[i]/predictions[i] > 0.85 and actual[i]/predictions[i] < 1.2):\n",
    "        newAct.append(actual[i])\n",
    "        newPred.append(predictions[i])\n",
    "    else:\n",
    "        valid.append(False)\n",
    "        invalid.append(features0['id'].iloc[i])\n",
    "\n",
    "\n",
    "print(invalid)\n",
    "\n",
    "\n",
    "print(\"Total\",len(actual))\n",
    "print(\"Valied\",len(newAct))\n",
    "print(\"Valid percentage\",100*len(newAct)/len(actual))\n",
    "\n",
    "\n",
    "# Calculate the absolute errors\n",
    "newPred = np.array(newPred)\n",
    "newAct = np.array(newAct)\n",
    "errors = abs(newPred - newAct)\n",
    "# Print out the mean absolute error (mae)\n",
    "print('Mean Absolute Error:', round(np.mean(errors), 5), 'IE_per_mass.')\n",
    "\n",
    "maxlim = 0\n",
    "# Calculate mean absolute percentage error (MAPE)\n",
    "mape = 100 * (errors[maxlim:] / newAct[maxlim:])\n",
    "# Calculate and display accuracy\n",
    "accuracy = 100 - np.mean(mape)\n",
    "print('Accuracy:', round(accuracy, 2), '%.')\n",
    "\n",
    "from sklearn.metrics import mean_absolute_error,mean_squared_error,r2_score\n",
    "# RMS\n",
    "print(\"Mean Sq Error :\",mean_squared_error(newAct,newPred)**0.5)\n",
    "print(\"r2 score :\",r2_score(newAct,newPred))\n",
    "\n",
    "\n",
    "\n",
    "ax.scatter(newAct, newPred,label=\"Prediction D >= 2000 mm\",c='red')\n",
    "# ax.scatter(actual[:maxlim], predictions[:maxlim],label=\"Test data\",c='red', alpha=1.0)\n",
    "# ax.scatter(actual[maxlim:], predictions[maxlim:],label=\"Prediction D >= 2000 mm\",c='blue')\n",
    "\n",
    "\n",
    "# print(actual)\n",
    "# ax.scatter(actual[:], predictions[:],c='blue')\n",
    "ax.plot(x,y,color='black', linestyle='dotted',linewidth=2.0, alpha=1)\n",
    "\n",
    "ax.set_ylabel(\"Predicted k/H (10$^{-8}$ ms/kg)\")\n",
    "ax.set_xlabel(\"Actual k/H (10$^{-8}$ ms/kg)\")\n",
    "# ax.text(2150, 0.55, '$D_{50}$', fontsize=15)\n",
    "\n",
    "ax.text(2, 25, 'accuracy = 93%', fontsize=12)\n",
    "ax.text(2, 21, '$R^{2}$ = 0.95', fontsize=12)\n",
    "# ax.text(0.55, 1.7, 'Prediction D = 2000 mm', fontsize=12)\n",
    "# ax.text(0.55, 1.6, 'Prediction D = 4000 mm', fontsize=12)\n",
    "# ax.legend(loc=\"upper right\")\n",
    "# lg = ax.legend(loc=\"upper left\")\n",
    "# lg.get_frame().set_alpha(0)\n",
    "\n",
    "plt.show()\n",
    "\n",
    "import os\n",
    "# save figure\n",
    "# path = \"../Paper/WearPaper/fig\"\n",
    "# fout = os.path.join(path, \"shear_RandomForest_k.jpg\")\n",
    "# fig.savefig(fout, dpi=300)\n"
   ]
  },
  {
   "cell_type": "code",
   "execution_count": null,
   "metadata": {},
   "outputs": [],
   "source": []
  }
 ],
 "metadata": {
  "kernelspec": {
   "display_name": "Python 3",
   "language": "python",
   "name": "python3"
  },
  "language_info": {
   "codemirror_mode": {
    "name": "ipython",
    "version": 3
   },
   "file_extension": ".py",
   "mimetype": "text/x-python",
   "name": "python",
   "nbconvert_exporter": "python",
   "pygments_lexer": "ipython3",
   "version": "3.8.5"
  }
 },
 "nbformat": 4,
 "nbformat_minor": 4
}
