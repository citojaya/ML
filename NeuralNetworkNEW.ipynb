{
 "cells": [
  {
   "cell_type": "code",
   "execution_count": 1,
   "metadata": {},
   "outputs": [],
   "source": [
    "# from hyperopt import Trials, STATUS_OK, tpe\n",
    "# from hyperas import optim\n",
    "# from hyperas.distributions import choice, uniform\n",
    "from tensorflow.python.keras.models import Sequential\n",
    "from tensorflow.python.keras.layers import Input, Dense\n",
    "from tensorflow.python.keras.callbacks import ReduceLROnPlateau\n",
    "from tensorflow.keras.optimizers import SGD\n",
    "\n",
    "import numpy as np\n",
    "import seaborn as sns\n",
    "import pandas as pd\n",
    "import matplotlib.pyplot as plt"
   ]
  },
  {
   "cell_type": "code",
   "execution_count": 2,
   "metadata": {},
   "outputs": [],
   "source": [
    "# model.add(Dense(50, activation='linear'))\n",
    "\n",
    "# # model.add(Dense(50, activation='relu'))\n",
    "# model.add(Dense(1)) # last layer with 1 neuron\n",
    "# model.compile(optimizer='rmsprop', loss='mse') # for regression models\n",
    "\n",
    "\n",
    "\n",
    "# def model(X_train, Y_train, X_val, Y_val):\n",
    "    \n",
    "#     model = Sequential()\n",
    "#     model.add(Dense({{choice([128, 256, 512, 1024])}}, activation={{choice(['relu', 'sigmoid'])}}))\n",
    "# #     model.add(Activation({{choice(['relu', 'sigmoid'])}}))\n",
    "#     model.add(Dropout({{uniform(0, 1)}}))\n",
    "# #     model.add(Dense({{choice([128, 256, 512, 1024])}}))\n",
    "# #     model.add(Activation({{choice(['relu', 'sigmoid'])}}))\n",
    "# #     model.add(Dropout({{uniform(0, 1)}}))\n",
    "    \n",
    "#     if conditional({{choice(['two', 'three'])}}) == 'three':\n",
    "#         model.add(Dense({{choice([128, 256, 512, 1024])}}))\n",
    "#         model.add(Activation({{choice(['relu', 'sigmoid'])}}))\n",
    "#         model.add(Dropout({{uniform(0, 1)}}))\n",
    "        \n",
    "#     model.add(Dense(10))\n",
    "#     model.add(Activation('softmax'))\n",
    "#     adam = keras.optimizers.Adam(lr={{choice([10**-3, 10**-2, 10**-1])}})\n",
    "#     rmsprop = keras.optimizers.RMSprop(lr={{choice([10**-3, 10**-2, 10**-1])}})\n",
    "#     sgd = keras.optimizers.SGD(lr={{choice([10**-3, 10**-2, 10**-1])}})\n",
    "   \n",
    "#     choiceval = {{choice(['adam', 'sgd', 'rmsprop'])}}\n",
    "#     if choiceval == 'adam':\n",
    "#         optim = adam\n",
    "#     elif choiceval == 'rmsprop':\n",
    "#         optim = rmsprop\n",
    "#     else:\n",
    "#         optim = sgd\n",
    "        \n",
    "#     model.compile(loss='categorical_crossentropy', metrics=['accuracy'],optimizer=optim)\n",
    "#     model.fit(X_train, Y_train,\n",
    "#               batch_size={{choice([128,256,512])}},\n",
    "#               nb_epoch=20,\n",
    "#               verbose=2,\n",
    "#               validation_data=(X_val, Y_val))\n",
    "#     score, acc = model.evaluate(X_val, Y_val, verbose=0)\n",
    "#     print('Test accuracy:', acc)\n",
    "#     return {'loss': -acc, 'status': STATUS_OK, 'model': model}"
   ]
  },
  {
   "cell_type": "code",
   "execution_count": 8,
   "metadata": {},
   "outputs": [
    {
     "name": "stdout",
     "output_type": "stream",
     "text": [
      "The shape of our features is: (360, 24)\n",
      "Index(['id', 'z', 'd/mesh', 'T', 'normT', 'h', 'h/z', 'atan', 'normz', 'normh',\n",
      "       'Hardness', 'A', 'E/A', 'normE', 'tangE', 'total', 'wear_rate(mm/hr)',\n",
      "       'wear_rate_percentage', 'k', 'k1', 'averageE', 'ratio', 'normTotal',\n",
      "       'const2'],\n",
      "      dtype='object')\n"
     ]
    }
   ],
   "source": [
    "df = pd.read_excel('../Paper/WearPaper/new_data/time_energy_wear_rate_forK2_new.xlsx')\n",
    "df0 = pd.read_excel('../Paper/WearPaper/new_data/time_energy_wear_rate_forK2_new.xlsx')\n",
    "# df0 = pd.read_excel('refined2.xlsx')\n",
    "print('The shape of our features is:', df.shape)\n",
    "print(df.columns)\n",
    "# df = df.iloc[:-3,:]\n",
    "# print(len(df))\n",
    "# print(df.tail())\n",
    "# sns.regplot(x=df['IE_per_mass'],y=df['tot_mass'], fit_reg=False)\n",
    "\n",
    "# df_filter = df['k1'] < 2\n",
    "# df = df[df_filter]\n",
    "\n",
    "# print(df.head())\n",
    "# df = df[df['k1']]\n",
    "\n"
   ]
  },
  {
   "cell_type": "code",
   "execution_count": 4,
   "metadata": {},
   "outputs": [],
   "source": [
    "# df.columns"
   ]
  },
  {
   "cell_type": "code",
   "execution_count": 9,
   "metadata": {},
   "outputs": [
    {
     "name": "stdout",
     "output_type": "stream",
     "text": [
      "(360, 4)\n",
      "Index(['d/mesh', 'normz', 'normh', 'normTotal'], dtype='object')\n"
     ]
    }
   ],
   "source": [
    "from sklearn.model_selection import train_test_split\n",
    "# y = df['wear_rate_percentage'].values\n",
    "y = df['k1'].values\n",
    "\n",
    "df= df.drop('id', axis = 1)\n",
    "df= df.drop('k1', axis = 1)\n",
    "df= df.drop('k', axis = 1)\n",
    "df= df.drop('wear_rate_percentage', axis = 1)\n",
    "df= df.drop('wear_rate(mm/hr)', axis = 1)\n",
    "# df= df.drop('IESM', axis = 1)\n",
    "df= df.drop('h', axis = 1)\n",
    "df= df.drop('z', axis = 1)\n",
    "# df= df.drop('d/mesh', axis = 1)\n",
    "# df= df.drop('F_plus_IESM', axis = 1)\n",
    "# df= df.drop('finnei', axis = 1)\n",
    "df= df.drop('Hardness', axis = 1)\n",
    "df= df.drop('A', axis = 1)\n",
    "\n",
    "df= df.drop('h/z', axis = 1)\n",
    "# df= df.drop('normT', axis = 1)\n",
    "df= df.drop('T', axis = 1)\n",
    "df= df.drop('E/A', axis = 1)\n",
    "df= df.drop('averageE', axis = 1)\n",
    "df= df.drop('normT', axis = 1)\n",
    "df= df.drop('atan', axis = 1)\n",
    "df= df.drop('normE', axis = 1)\n",
    "df= df.drop('total', axis = 1)\n",
    "df= df.drop('ratio', axis = 1)\n",
    "df= df.drop('const2', axis = 1)\n",
    "df= df.drop('tangE', axis = 1)\n",
    "\n",
    "\n",
    "\n",
    "# Convert to numpy array\n",
    "X = df.values\n",
    "\n",
    "\n",
    "print(df.shape)\n",
    "print(df.columns)"
   ]
  },
  {
   "cell_type": "code",
   "execution_count": 7,
   "metadata": {},
   "outputs": [],
   "source": [
    "# sns.pairplot(df)\n"
   ]
  },
  {
   "cell_type": "code",
   "execution_count": 8,
   "metadata": {},
   "outputs": [
    {
     "name": "stdout",
     "output_type": "stream",
     "text": [
      "(251, 4)\n",
      "(108, 4)\n"
     ]
    }
   ],
   "source": [
    "# X_train, X_test, y_train, y_test = train_test_split(X, y, test_size=0.33, random_state=42)\n",
    "X_train, X_test, y_train, y_test = train_test_split(X, y, test_size=0.3, random_state=42)\n",
    "print(X_train.shape)\n",
    "print(X_test.shape)\n"
   ]
  },
  {
   "cell_type": "code",
   "execution_count": 9,
   "metadata": {},
   "outputs": [],
   "source": [
    "from sklearn.preprocessing import MinMaxScaler\n",
    "scaler = MinMaxScaler()\n",
    "scaler.fit(X_train)\n",
    "X_train = scaler.transform(X_train)\n",
    "scaler.fit(X_test)\n",
    "X_test = scaler.transform(X_test)"
   ]
  },
  {
   "cell_type": "code",
   "execution_count": 10,
   "metadata": {},
   "outputs": [],
   "source": [
    "#help(MinMaxScaler)"
   ]
  },
  {
   "cell_type": "code",
   "execution_count": 11,
   "metadata": {},
   "outputs": [],
   "source": [
    "# model = Sequential([Dense(4, activation='relu'),\n",
    "#                    Dense(4, activation='relu'),\n",
    "#                    Dense(1)])"
   ]
  },
  {
   "cell_type": "code",
   "execution_count": 12,
   "metadata": {},
   "outputs": [],
   "source": [
    "# from tensorflow.python.keras.models import Sequential\n",
    "# from tensorflow.python.keras.layers import Input, Dense\n",
    "\n",
    "model = Sequential()\n",
    "model.add(Dense(50, activation='relu'))\n",
    "model.add(Dense(50, activation='relu'))\n",
    "model.add(Dense(50, activation='relu'))\n",
    "# model.add(Dense(50, activation='relu'))\n",
    "# model.add(Dense(50, activation='relu'))\n",
    "# model.add(Dense(50, activation='relu'))\n",
    "\n",
    "# model.add(Dense(50, activation='relu'))\n",
    "opt = SGD(lr=0.1, momentum=0.9)\n",
    "model.add(Dense(1)) # last layer with 1 neuron\n",
    "# model.compile(optimizer='rmsprop', loss='mse')\n",
    "model.compile(optimizer=opt, loss='mse')\n",
    "# model.compile(optimizer='rmsprop', loss='mse', metrics=['accuracy']) # for regression models\n",
    "# model.compile(loss='binary_crossentropy',otimizer='adam',metric=['accuray'])\n"
   ]
  },
  {
   "cell_type": "code",
   "execution_count": 13,
   "metadata": {},
   "outputs": [
    {
     "name": "stdout",
     "output_type": "stream",
     "text": [
      "dict_keys(['loss', 'val_loss', 'lr'])\n",
      "         loss  val_loss   lr\n",
      "0    2.610385  1.570859  0.1\n",
      "1    2.702187  1.755434  0.1\n",
      "2    2.530399  1.543846  0.1\n",
      "3    2.280227  1.350220  0.1\n",
      "4    2.886887  1.549566  0.1\n",
      "..        ...       ...  ...\n",
      "495  2.270573  1.431874  0.0\n",
      "496  2.270573  1.431874  0.0\n",
      "497  2.270573  1.431874  0.0\n",
      "498  2.270573  1.431874  0.0\n",
      "499  2.270573  1.431874  0.0\n",
      "\n",
      "[500 rows x 3 columns]\n"
     ]
    },
    {
     "data": {
      "image/png": "[encoded data removed]",
      "text/plain": [
       "<Figure size 432x324 with 1 Axes>"
      ]
     },
     "metadata": {
      "needs_background": "light"
     },
     "output_type": "display_data"
    }
   ],
   "source": [
    "# epochs - number of iterations\n",
    "rlrp = ReduceLROnPlateau(monitor='val_loss', factors=0.1, patience=5, min_delta=1E-7, verbose=0)\n",
    "# his = model.fit(X, y, validation_split=0.3, epochs=2000, batch_size=len(X),verbose=0)\n",
    "# his = model.fit(X_train, y_train, validation_data=(X_test, y_test), epochs=20, batch_size=len(X),verbose=0)\n",
    "his = model.fit(X_train, y_train, validation_data=(X_test, y_test), epochs=500, callbacks=[rlrp],verbose=0)\n",
    "\n",
    "# his = model.fit(x=X_train, y=y_train, epochs=50, batch_size=2,verbose=0)\n",
    "print(his.history.keys())\n",
    "\n",
    "\n",
    "# fig = plt.figure(figsize=(6,4.5))\n",
    "# ax = fig.add_axes([0.2,0.2,0.7,0.7])\n",
    "# Summarize history for accuracy\n",
    "# plt.plot(his.history['accuracy'])\n",
    "# plt.plot(his.history['val_accuracy'])\n",
    "# plt.legend(['train, test'], loc='best')\n",
    "# plt.ylabel('accuracy')\n",
    "# plt.xlabel('epoch')\n",
    "# plt.show()\n",
    "\n",
    "# Summarize history for loss\n",
    "# plt.plot(his.history['loss'])\n",
    "# plt.plot(his.history['val_loss'])\n",
    "# plt.legend(['train, test'], loc='best')\n",
    "\n",
    "# plt.show()\n",
    "\n",
    "# print(len(his.history.epoch))\n",
    "# epoch = np.arange(0,10,1)\n",
    "# print(model.history.history['loss'])\n",
    "# print(his.history['loss'])\n",
    "# ax.plot(model.history.epoch, his.history['loss'], label='train')\n",
    "# ax.plot(model.history.epoch, his.history['val_loss'], label='test')\n",
    "\n",
    "# ax.plot(epoch, his.history['accuracy'], label='train')\n",
    "# ax.plot(epoch, his.history['val_accuracy'], label='test')\n",
    "\n",
    "#         ,his.history['val_loss'])\n",
    "\n",
    "# lg = plt.legend(loc='best')\n",
    "\n",
    "# fout = \"loss2.jpg\"\n",
    "# fig.savefig(fout, dpi=500)\n",
    "\n",
    "# print(model.history.epoch)\n",
    "# model.history.validation_data\n",
    "# val_data = pd.DataFrame(model.history.validation_data);\n",
    "# model.history.validation_data\n",
    "\n",
    "loss_df = pd.DataFrame(model.history.history)\n",
    "fig = plt.figure(figsize=(6,4.5))\n",
    "ax = fig.add_axes([0.2,0.2,0.7,0.7])\n",
    "ax.set_ylabel('loss');\n",
    "ax.set_xlabel('epoch');\n",
    "# loss_df.plot()\n",
    "print(loss_df)\n",
    "# ax.set_ylim(0,0.4)\n",
    "ax.plot(model.history.epoch, loss_df['loss'], label='Train')\n",
    "ax.plot(model.history.epoch, loss_df['val_loss'], label='Test', alpha=0.5)\n",
    "\n",
    "lg = plt.legend(loc='best')\n",
    "lg.get_frame().set_alpha(0)\n",
    "fout = 'learing_20x3.jpg'\n",
    "fig.savefig(fout, dpi=400)\n",
    "\n",
    "# print(model.history)"
   ]
  },
  {
   "cell_type": "code",
   "execution_count": 14,
   "metadata": {},
   "outputs": [
    {
     "name": "stdout",
     "output_type": "stream",
     "text": [
      "Test MSE  1.43187415599823\n",
      "Train MSE 2.270573377609253\n"
     ]
    }
   ],
   "source": [
    "# Mean squared error of test data (loss)\n",
    "print(\"Test MSE \",model.evaluate(X_test, y_test, verbose=0))\n",
    "# Mean squared error of training data (loss)\n",
    "print(\"Train MSE\",model.evaluate(X_train, y_train, verbose=0))\n",
    "\n",
    "# from ann_visualizer.visualize import ann_viz;\n",
    "# ann_viz(model, title=\"GOOD\")"
   ]
  },
  {
   "cell_type": "code",
   "execution_count": 15,
   "metadata": {},
   "outputs": [
    {
     "name": "stdout",
     "output_type": "stream",
     "text": [
      "Invalid % 0.8518518518518519\n"
     ]
    },
    {
     "data": {
      "image/png": "[encoded data removed]",
      "text/plain": [
       "<Figure size 432x288 with 1 Axes>"
      ]
     },
     "metadata": {
      "needs_background": "light"
     },
     "output_type": "display_data"
    }
   ],
   "source": [
    "import matplotlib.pyplot as plt\n",
    "%matplotlib inline\n",
    "# predictions based on test data\n",
    "test_predictions = model.predict(X_test)\n",
    "# Convert numpy array to Pandas series and reshape \n",
    "test_predictions = pd.Series(test_predictions.reshape(len(test_predictions),))\n",
    "# Create a dataframe\n",
    "pred_df = pd.DataFrame(y_test, columns=['Test True Y'])\n",
    "pred_df = pd.concat([pred_df, test_predictions],axis=1)\n",
    "# print(pred_df)\n",
    "\n",
    "pred_df.columns = ['Test True Y', 'Model Predictions']\n",
    "#sns.pairplot(pred_df)\n",
    "plt.scatter(pred_df['Test True Y'],pred_df['Model Predictions'], )\n",
    "\n",
    "\n",
    "errors = abs(pred_df['Test True Y']-pred_df['Model Predictions'])\n",
    "invalid = errors > 0.05\n",
    "\n",
    "count = 0\n",
    "for i in range(len(invalid)):\n",
    "    if(invalid[i]):\n",
    "        count += 1\n",
    "print(\"Invalid %\", count/len(invalid))\n",
    "\n",
    "actual = np.array(pred_df['Test True Y'])\n",
    "pred = np.array(pred_df['Model Predictions'])\n",
    "\n",
    "# invalid_rows = []\n",
    "# for i in range(len(pred_df['Test True Y'])):\n",
    "#     if(actual[i]/pred[i] > 0.1 and actual[i]/pred[i] > 2.2):\n",
    "#         invalid_rows.append((df0['id'].iloc[i]))\n",
    "\n",
    "# print(invalid_rows)\n",
    "# # print(pred_df[invalid])\n",
    "# print(\"Valid count\",len(actual))\n",
    "# print(\"Invalid count\",len(invalid_rows))\n",
    "\n",
    "# delete = df0.drop(df0.index[[2, 4, 5, 10, 13, 14, 15, 16, 22, 23, 26, 28, 30, 59, 62, 63, 65, 72, 75]])\n",
    "# delete.to_excel('refined2.xlsx')\n",
    "\n",
    "# print(test_predictions)"
   ]
  },
  {
   "cell_type": "code",
   "execution_count": 16,
   "metadata": {},
   "outputs": [
    {
     "data": {
      "text/plain": [
       "1.1966095114932018"
      ]
     },
     "execution_count": 16,
     "metadata": {},
     "output_type": "execute_result"
    }
   ],
   "source": [
    "from sklearn.metrics import mean_absolute_error,mean_squared_error\n",
    "mean_absolute_error(pred_df['Test True Y'],pred_df['Model Predictions'])\n",
    "mean_squared_error(pred_df['Test True Y'],pred_df['Model Predictions'])\n",
    "# RMS\n",
    "mean_squared_error(pred_df['Test True Y'],pred_df['Model Predictions'])**0.5"
   ]
  },
  {
   "cell_type": "code",
   "execution_count": 17,
   "metadata": {},
   "outputs": [],
   "source": [
    "# New data\n",
    "#mill_dia\tpar_dia\ttot_mass\tN*\trpm\t\n",
    "# new_mill = [[1000,25.4,553.4,0.5,21.3]]\n",
    "\n",
    "# # scale data\n",
    "# new_mill= scaler.transform(new_mill)\n",
    "\n",
    "# model.predict(new_mill)"
   ]
  },
  {
   "cell_type": "code",
   "execution_count": 18,
   "metadata": {},
   "outputs": [
    {
     "name": "stdout",
     "output_type": "stream",
     "text": [
      "Index(['d/mesh', 'normT', 'normz', 'normh'], dtype='object')\n",
      "(24, 4)\n"
     ]
    }
   ],
   "source": [
    "df0 = pd.read_excel('prediction_8_steps.xlsx', sheet_name='8-8')\n",
    "features= df0.drop('z', axis = 1)\n",
    "features= features.drop('z_raw', axis = 1)\n",
    "features= features.drop('h', axis = 1)\n",
    "features= features.drop('finnei', axis = 1)\n",
    "# features= features.drop('shear', axis = 1)\n",
    "\n",
    "features= features.drop('newh', axis = 1)\n",
    "features= features.drop('d', axis = 1)\n",
    "\n",
    "features= features.drop('E/A', axis = 1)\n",
    "features= features.drop('shear', axis = 1)\n",
    "features= features.drop('h/z', axis = 1)\n",
    "features= features.drop('normE', axis = 1)\n",
    "# features= features.drop('normh', axis = 1)\n",
    "# features= features.drop('atan', axis = 1)\n",
    "features= features.drop('modnewh', axis = 1)\n",
    "features= features.drop('k1', axis = 1)\n",
    "print(features.columns)\n",
    "print(features.shape)\n",
    "\n",
    "\n",
    "scaler = MinMaxScaler()\n",
    "scaler.fit(features)\n",
    "new_data = scaler.transform(features)\n",
    "\n",
    "# print(new_data)\n",
    "predictions = model.predict(new_data)\n",
    "df = pd.DataFrame(predictions, columns=['k1'])\n",
    "\n",
    "dt = 11575\n",
    "hard = 500.\n",
    "df0['k1'] = predictions\n",
    "df0['newh'] = np.array(df0['h']) - 41.*dt*np.array(df0['k1'])*np.array(df0['shear'])*1e-6*(50.0/100.)/hard\n",
    "\n",
    "df0.to_excel('k8-8.xlsx')\n"
   ]
  },
  {
   "cell_type": "code",
   "execution_count": 19,
   "metadata": {},
   "outputs": [],
   "source": [
    "# If your model is complex and takes a lot of time to train, it is better to save as a hdfs file\n",
    "#from tensorflow.python.keras.models import load_model"
   ]
  },
  {
   "cell_type": "code",
   "execution_count": 20,
   "metadata": {},
   "outputs": [],
   "source": [
    "#model.save('my_gem_model.h5')"
   ]
  },
  {
   "cell_type": "code",
   "execution_count": 21,
   "metadata": {},
   "outputs": [],
   "source": [
    "#later_model = load_model('my_gem_model.h5')"
   ]
  },
  {
   "cell_type": "code",
   "execution_count": 22,
   "metadata": {},
   "outputs": [],
   "source": [
    "#later_model.predict(new_gem)"
   ]
  },
  {
   "cell_type": "code",
   "execution_count": null,
   "metadata": {},
   "outputs": [],
   "source": []
  }
 ],
 "metadata": {
  "kernelspec": {
   "display_name": "Python 3",
   "language": "python",
   "name": "python3"
  },
  "language_info": {
   "codemirror_mode": {
    "name": "ipython",
    "version": 3
   },
   "file_extension": ".py",
   "mimetype": "text/x-python",
   "name": "python",
   "nbconvert_exporter": "python",
   "pygments_lexer": "ipython3",
   "version": "3.8.5"
  }
 },
 "nbformat": 4,
 "nbformat_minor": 2
}
